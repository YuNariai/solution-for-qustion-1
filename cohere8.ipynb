{
 "cells": [
  {
   "cell_type": "code",
   "execution_count": 6,
   "id": "4fa7fe9d-8843-4362-bf68-e429701db9e2",
   "metadata": {},
   "outputs": [],
   "source": [
    "import pennylane as qml\n",
    "import numpy as np"
   ]
  },
  {
   "cell_type": "markdown",
   "id": "dc1f5ab2-fe51-45dd-9c18-36a46721f5a5",
   "metadata": {},
   "source": [
    "# The following cells are the helper functions and their tests\n",
    "\n",
    "I will use Basis Embedding and Grover algorithm to build the final function find_primes_numbers"
   ]
  },
  {
   "cell_type": "code",
   "execution_count": 2,
   "id": "4dafa612-f716-4f17-a9cb-78012f450803",
   "metadata": {},
   "outputs": [],
   "source": [
    "def adder(lista, listb, listc):\n",
    "    '''\n",
    "    a full adder\n",
    "    lista: list of qubits of number A, len=n\n",
    "    listb: list of qubits of number B, len=n\n",
    "    listc: list of qubits of carry bits, len=n, will store the result\n",
    "    '''\n",
    "    n = len(lista)\n",
    "    for i in range(n-1):\n",
    "        qml.Toffoli([lista[n-1-i], listc[n-1-i], listc[n-2-i]])\n",
    "        qml.CNOT([lista[n-1-i], listc[n-1-i]])\n",
    "        qml.Toffoli([listc[n-1-i], listb[n-1-i], listc[n-2-i]])\n",
    "        qml.CNOT([listb[n-1-i], listc[n-1-i]])\n",
    "    qml.CNOT([lista[0], listc[0]])\n",
    "    qml.CNOT([listb[0], listc[0]])"
   ]
  },
  {
   "cell_type": "code",
   "execution_count": 9,
   "id": "412ad943-ed9e-43f8-8b17-9be0cf1d1b50",
   "metadata": {},
   "outputs": [
    {
     "data": {
      "text/plain": [
       "{'111000': tensor(100, requires_grad=True)}"
      ]
     },
     "execution_count": 9,
     "metadata": {},
     "output_type": "execute_result"
    }
   ],
   "source": [
    "# test adder\n",
    "dev = qml.device('default.qubit', wires=6, shots=100 )\n",
    "@qml.qnode(dev)\n",
    "def test_add():\n",
    "    qml.PauliX(0)\n",
    "    qml.PauliX(1)\n",
    "    qml.PauliX(2)\n",
    "    adder([0,1],[2,3],[4,5])\n",
    "    qml.adjoint(adder)([0,1],[2,3],[4,5])\n",
    "    return qml.counts()\n",
    "test_add()"
   ]
  },
  {
   "cell_type": "code",
   "execution_count": 3,
   "id": "2d1c5402-4362-456f-a697-ce7cd6ade319",
   "metadata": {},
   "outputs": [],
   "source": [
    "def if_sum(qA, qB, qN, auxiliary, listc):\n",
    "    '''\n",
    "    a function that:\n",
    "    if numA+numB = numN: auxiliary return state 1\n",
    "    if numA+numB != numN: auxiliary return state 0\n",
    "    \n",
    "    qA: list of wires that encoded number A, len=n, keep qA state non change\n",
    "    qB: list of wires that encoded number B, len=n, keep qB state non change\n",
    "    qN: list of wires that encoded number N, len=n, keep qN state non change\n",
    "    listc: list of wires of carry bits when sum numA, numB, len=n, keep listc state non change\n",
    "    auxiliary: auxiliary qubit\n",
    "    \n",
    "    '''\n",
    "    n = len(qA)\n",
    "    adder(qA, qB, listc)\n",
    "    for i in range(n):\n",
    "        qml.CNOT([qN[i], listc[i]])\n",
    "        qml.PauliX(listc[i])\n",
    "        \n",
    "    qml.MultiControlledX(listc,auxiliary)\n",
    "    \n",
    "    for ii in range(n):\n",
    "        qml.PauliX(listc[ii])\n",
    "        qml.CNOT([qN[ii], listc[ii]])\n",
    "    qml.adjoint(adder)(qA, qB, listc)\n",
    "        "
   ]
  },
  {
   "cell_type": "code",
   "execution_count": 6,
   "id": "aceba0ab-4449-4268-b0cd-d2fc368d50dc",
   "metadata": {},
   "outputs": [
    {
     "data": {
      "text/plain": [
       "(tensor(1., requires_grad=True), tensor(1., requires_grad=True))"
      ]
     },
     "execution_count": 6,
     "metadata": {},
     "output_type": "execute_result"
    }
   ],
   "source": [
    "# test if_sum\n",
    "dev = qml.device('default.qubit', wires=9)\n",
    "@qml.qnode(dev)\n",
    "def test_if_sum():\n",
    "    qA=[0,1]\n",
    "    qB=[2,3]\n",
    "    qN=[4,5]\n",
    "    listc=[6,7]\n",
    "    auxiliary=[8]\n",
    "    #qml.BasisEmbedding(1,qA)\n",
    "    qml.Hadamard(0)\n",
    "    qml.Hadamard(1)\n",
    "    qml.BasisEmbedding(2,qB)\n",
    "    qml.BasisEmbedding(3,qN)\n",
    "    if_sum(qA, qB, qN, auxiliary, listc)\n",
    "    return qml.expval(qml.PauliZ(6)),qml.expval(qml.PauliZ(7))\n",
    "test_if_sum()"
   ]
  },
  {
   "cell_type": "code",
   "execution_count": 4,
   "id": "af8374aa-9d77-479e-b1c8-bb542949ecbf",
   "metadata": {},
   "outputs": [],
   "source": [
    "def encode_superposition(list_of_numA, qA):\n",
    "    '''\n",
    "    use Basis Embedding to encode the numbers in list_of_numA\n",
    "    as a superposition on wires qA\n",
    "    '''\n",
    "    \n",
    "    state_vector=np.zeros(2**len(qA))\n",
    "    for i in list_of_numA:\n",
    "        state_vector[i]=1.0/np.sqrt(len(list_of_numA))\n",
    "    qml.StatePrep(state_vector, wires=qA)"
   ]
  },
  {
   "cell_type": "code",
   "execution_count": 5,
   "id": "69574402-ab74-42e3-b0ff-d7cf0d2ecb68",
   "metadata": {},
   "outputs": [
    {
     "data": {
      "text/plain": [
       "{'00001': 35, '00011': 30, '00111': 35}"
      ]
     },
     "execution_count": 5,
     "metadata": {},
     "output_type": "execute_result"
    }
   ],
   "source": [
    "#test encode_superposition\n",
    "dev = qml.device('default.qubit', wires=5, shots=100 )\n",
    "@qml.qnode(dev)\n",
    "def test_encode():\n",
    "    encode_superposition([1,3,7], [0,1,2,3,4])\n",
    "    return qml.counts()\n",
    "test_encode()"
   ]
  },
  {
   "cell_type": "code",
   "execution_count": 5,
   "id": "754770b3-90ea-4bd4-80bd-77a14c5dc2dd",
   "metadata": {},
   "outputs": [],
   "source": [
    "def Gover_diffusion(list_of_num, qA, qB):\n",
    "    '''\n",
    "    diffusion operator for Gover search on both qA and qB\n",
    "    qA: list of wires that encoded numA\n",
    "    qB: list of wires that encoded numB\n",
    "\n",
    "    the number of qubits n in qA and qB are the same, n=int(log2(numN))+1\n",
    "    '''\n",
    "    n = 2**len(qA)\n",
    "    state_vector=np.zeros(n)\n",
    "    for i in list_of_num:\n",
    "        state_vector[i]=1.0/np.sqrt(len(list_of_num))\n",
    "    op_a = np.outer(state_vector, state_vector)\n",
    "    \n",
    "    # tensor product\n",
    "    op_ab = np.zeros((n**2,n**2))\n",
    "    for j in range(n):\n",
    "        for k in range(n):\n",
    "            for l in range(n):\n",
    "                for m in range(n):\n",
    "                    op_ab[j*n+l][k*n+m] = op_a[j][k]*op_a[l][m]\n",
    "\n",
    "    op_diffusion = op_ab*2-np.identity(n**2)\n",
    "    qml.QubitUnitary(op_diffusion, wires=qA+qB)\n",
    "    \n",
    "    "
   ]
  },
  {
   "cell_type": "code",
   "execution_count": 56,
   "id": "aba8fc96-9683-42c3-b81f-49fec9de4a81",
   "metadata": {},
   "outputs": [
    {
     "data": {
      "text/plain": [
       "{'0101': 24, '0111': 21, '1101': 27, '1111': 28}"
      ]
     },
     "execution_count": 56,
     "metadata": {},
     "output_type": "execute_result"
    }
   ],
   "source": [
    "# test diffusion\n",
    "dev = qml.device('default.qubit', wires=4, shots=100 )\n",
    "@qml.qnode(dev)\n",
    "def test_diffu():\n",
    "    qA=[0,1]\n",
    "    qB=[2,3]\n",
    "    encode_superposition([1,3], qA)\n",
    "    encode_superposition([1,3], qB)\n",
    "    Gover_diffusion([1,3], qA, qB)\n",
    "    Gover_diffusion([1,3], qA, qB)\n",
    "    \n",
    "    return qml.counts()\n",
    "test_diffu()"
   ]
  },
  {
   "cell_type": "markdown",
   "id": "afe2be20-f60a-465f-a2b3-af0d4028be36",
   "metadata": {},
   "source": [
    "# The following cells are the finial function and the test "
   ]
  },
  {
   "cell_type": "code",
   "execution_count": 132,
   "id": "adc064a6-1d35-472f-b1d0-508ab134d3a9",
   "metadata": {},
   "outputs": [],
   "source": [
    "def find_primes_numbers2(numN, list_of_num):\n",
    "    '''\n",
    "    Use Grover search with multiple solutions to find out primes numbers\n",
    "    '''\n",
    "    n = int(np.log2(numN))+1\n",
    "    dev = qml.device('default.qubit', wires=4*n+1, shots=2)\n",
    "    qA = [a for a in range(n)]\n",
    "    qB = [b for b in range(n,2*n)]\n",
    "    qN = [i for i in range(2*n,3*n)]\n",
    "    listc = [c for c in range(3*n, 4*n)]\n",
    "    auxiliary = 4*n\n",
    "    \n",
    "\n",
    "    m = int(np.sqrt(len(list_of_num))*np.pi/4) # repeat oracle and diffusion times\n",
    "\n",
    "    @qml.qnode(dev) \n",
    "    def Gover_search(list_of_num, qA, numB, qB, qN, listc, auxiliary):       \n",
    "        '''\n",
    "        use Gover algoritm to find out which number in\n",
    "        list_of_num saitisfies numA+numB=numN\n",
    "        qA: list of wires to encode numA\n",
    "        qB: list of wires to encode numB\n",
    "        qN: list of wires to encode numN\n",
    "        listc: list of wires of carry bits\n",
    "        auxiliary: auxiliary qubit\n",
    "        the number of qubits n in qA, qB and qN are the same, n=int(log2(numN))+1\n",
    "        '''   \n",
    "        encode_superposition(list_of_num, qA)\n",
    "        qml.BasisEmbedding(numB, qB)\n",
    "        qml.BasisEmbedding(numN, qN)\n",
    "        qml.PauliX(auxiliary)\n",
    "        qml.Hadamard(auxiliary)\n",
    "        for i in range(m):\n",
    "            if_sum(qA, qB, qN, auxiliary, listc)\n",
    "            Gover_diffusion2(list_of_num, qA)\n",
    "        return qml.counts(wires=qA)\n",
    "    \n",
    "    \n",
    "    for bb in list_of_num:\n",
    "        result = Gover_search(list_of_num, qA, bb, qB, qN, listc, auxiliary)\n",
    "        dev.reset()\n",
    "        if len(result) == 1:\n",
    "            break\n",
    "    \n",
    "    str_a = list(result.keys())[0]\n",
    "    A = int(str_a,2)\n",
    "    B = bb\n",
    "    return str(A)+\",\"+str(B)\n",
    "    "
   ]
  },
  {
   "cell_type": "code",
   "execution_count": 51,
   "id": "2f2a9669-7b18-484b-9030-60e9052a5f75",
   "metadata": {},
   "outputs": [
    {
     "data": {
      "text/plain": [
       "'5,13'"
      ]
     },
     "execution_count": 51,
     "metadata": {},
     "output_type": "execute_result"
    }
   ],
   "source": [
    "# test find_primes_numbers\n",
    "find_primes_numbers(18, [1,3,5,7,11,13,15])"
   ]
  },
  {
   "cell_type": "markdown",
   "id": "eab81949-4a88-4d66-a694-e062370853a0",
   "metadata": {},
   "source": [
    "# Discussion\n",
    "I used Grover algorithm with multiple solutions to solve this problem. Only one shot is needed to find out the primes numbers. However, Grover algorithm requires that the number of solutions is known in advance. To find out the number of solutions, we need hunders of shots.\n",
    "\n",
    "I think Grover algorithm with multiple solutions does not show quantum advantages in this case.\n",
    "\n",
    "To achive quantum advantages, I also tried using Grover algorithm with single solution for each number in the list."
   ]
  },
  {
   "cell_type": "markdown",
   "id": "40e79b90-fd43-4749-87e9-8e8cffdf1a7d",
   "metadata": {},
   "source": [
    "# help functions"
   ]
  },
  {
   "cell_type": "code",
   "execution_count": 53,
   "id": "defd1312-950a-4ebb-ba23-585351a2beef",
   "metadata": {},
   "outputs": [],
   "source": [
    "def Gover_diffusion2(list_of_num, qA):\n",
    "    '''\n",
    "    diffusion operator for Gover search on qA\n",
    "    qA: list of wires that encoded numA\n",
    "\n",
    "    the number of qubits n in qA and qB are the same, n=int(log2(numN))+1\n",
    "    '''\n",
    "    n = 2**len(qA)\n",
    "    state_vector=np.zeros(n)\n",
    "    for i in list_of_num:\n",
    "        state_vector[i]=1.0/np.sqrt(len(list_of_num))\n",
    "    op_a = np.outer(state_vector, state_vector)\n",
    "    \n",
    "    op_diffusion = op_a*2-np.identity(n)\n",
    "    qml.QubitUnitary(op_diffusion, wires=qA)\n",
    "    "
   ]
  },
  {
   "cell_type": "markdown",
   "id": "d3c66784-c579-44c1-9e11-767957a98c79",
   "metadata": {},
   "source": [
    "# Final function and test"
   ]
  },
  {
   "cell_type": "code",
   "execution_count": 132,
   "id": "1a226f82",
   "metadata": {},
   "outputs": [],
   "source": [
    "def find_primes_numbers2(numN, list_of_num):\n",
    "    '''\n",
    "    Use Grover search with multiple solutions to find out primes numbers\n",
    "    '''\n",
    "    n = int(np.log2(numN))+1\n",
    "    dev = qml.device('default.qubit', wires=4*n+1, shots=2)\n",
    "    qA = [a for a in range(n)]\n",
    "    qB = [b for b in range(n,2*n)]\n",
    "    qN = [i for i in range(2*n,3*n)]\n",
    "    listc = [c for c in range(3*n, 4*n)]\n",
    "    auxiliary = 4*n\n",
    "    \n",
    "\n",
    "    m = int(np.sqrt(len(list_of_num))*np.pi/4) # repeat oracle and diffusion times\n",
    "\n",
    "    @qml.qnode(dev) \n",
    "    def Gover_search(list_of_num, qA, numB, qB, qN, listc, auxiliary):       \n",
    "        '''\n",
    "        use Gover algoritm to find out which number in\n",
    "        list_of_num saitisfies numA+numB=numN\n",
    "        qA: list of wires to encode numA\n",
    "        qB: list of wires to encode numB\n",
    "        qN: list of wires to encode numN\n",
    "        listc: list of wires of carry bits\n",
    "        auxiliary: auxiliary qubit\n",
    "        the number of qubits n in qA, qB and qN are the same, n=int(log2(numN))+1\n",
    "        '''   \n",
    "        encode_superposition(list_of_num, qA)\n",
    "        qml.BasisEmbedding(numB, qB)\n",
    "        qml.BasisEmbedding(numN, qN)\n",
    "        qml.PauliX(auxiliary)\n",
    "        qml.Hadamard(auxiliary)\n",
    "        for i in range(m):\n",
    "            if_sum(qA, qB, qN, auxiliary, listc)\n",
    "            Gover_diffusion2(list_of_num, qA)\n",
    "        return qml.counts(wires=qA)\n",
    "    \n",
    "    \n",
    "    for bb in list_of_num:\n",
    "        result = Gover_search(list_of_num, qA, bb, qB, qN, listc, auxiliary)\n",
    "        dev.reset()\n",
    "        if len(result) == 1:\n",
    "            break\n",
    "    \n",
    "    str_a = list(result.keys())[0]\n",
    "    A = int(str_a,2)\n",
    "    B = bb\n",
    "    return str(A)+\",\"+str(B)\n",
    "    "
   ]
  },
  {
   "cell_type": "code",
   "execution_count": 142,
   "id": "dd100796-491a-40ed-9da8-00f928424f7b",
   "metadata": {},
   "outputs": [
    {
     "data": {
      "text/plain": [
       "'15,3'"
      ]
     },
     "execution_count": 142,
     "metadata": {},
     "output_type": "execute_result"
    }
   ],
   "source": [
    "# test find_primes_numbers2\n",
    "find_primes_numbers2(18, [1,3,5,7,11,13,15])"
   ]
  },
  {
   "cell_type": "markdown",
   "id": "a3d691f1-3c76-4fcd-b746-64b211a0e1e1",
   "metadata": {},
   "source": [
    "# Discussion\n",
    "The second method use only two shots for every Grover search which shows quantum advantage. This method works better when the length of the list is long, but if the lenth is short, the accuarcy of this method is low."
   ]
  },
  {
   "cell_type": "code",
   "execution_count": null,
   "id": "bdd201f0-4d26-4d56-aced-fe84fd3e83c2",
   "metadata": {},
   "outputs": [],
   "source": []
  }
 ],
 "metadata": {
  "kernelspec": {
   "display_name": "Python 3 [Default]",
   "language": "python",
   "name": "python3"
  },
  "language_info": {
   "codemirror_mode": {
    "name": "ipython",
    "version": 3
   },
   "file_extension": ".py",
   "mimetype": "text/x-python",
   "name": "python",
   "nbconvert_exporter": "python",
   "pygments_lexer": "ipython3",
   "version": "3.9.12"
  }
 },
 "nbformat": 4,
 "nbformat_minor": 5
}
